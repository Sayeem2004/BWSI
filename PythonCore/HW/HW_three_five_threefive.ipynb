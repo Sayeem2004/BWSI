{
 "cells": [
  {
   "cell_type": "markdown",
   "metadata": {},
   "source": [
    "# Three, Five, Three-Five\n",
    "Write code that detects if a number is divisible by 3, 5, both, or neither.\n",
    "Specifically, write a function that, given `x` (an integer), returns:\n",
    "\n",
    "    - the string \"threefive\", if x is a multiple of both 3 and 5.\n",
    "    - the string \"three\", if x is a multiple of 3 and not 5.\n",
    "    - the string \"five\", if x is a multiple of 5 and not 3.\n",
    "    - the integer x, if x is not divisible by either 3 or 5.\n",
    "\n",
    "You may assume that your input is an integer greater than 0.\n",
    "\n",
    "## Required Concepts\n",
    "Basic Object Types\n",
    "- basic math with Python\n",
    "- strings\n",
    "\n",
    "Conditional Statements\n",
    "- basic usage of: if, else, elif\n",
    "\n",
    "\n",
    "Basics of Functions\n",
    "- the return statement\n",
    "- basic function arguments\n",
    "\n",
    "## Examples\n",
    "```python\n",
    ">>> student_func(3)\n",
    "'three'\n",
    "\n",
    ">>> student_func(5)\n",
    "'five'\n",
    "\n",
    ">>> student_func(15)\n",
    "'threefive'\n",
    "\n",
    ">>> student_func(2)\n",
    "2\n",
    "```"
   ]
  },
  {
   "cell_type": "code",
   "execution_count": 3,
   "metadata": {},
   "outputs": [],
   "source": [
    "def student_func(x):\n",
    "    if x%15: return \"threefive\"; \n",
    "    elif x%5: return \"five\";\n",
    "    elif x%3: return \"three\"; \n",
    "    else: return x;"
   ]
  },
  {
   "cell_type": "code",
   "execution_count": 4,
   "metadata": {},
   "outputs": [
    {
     "name": "stdout",
     "output_type": "stream",
     "text": [
      "Using grader version 1.10.1\n"
     ]
    },
    {
     "ename": "StudentError",
     "evalue": "\nCalling \n\tstudent_function(3)\nproduced an incorrect result.\n\nThe expected output has length-5:\n'three'\n\nGot an output of length-9:\n'threefive'",
     "output_type": "error",
     "traceback": [
      "\u001b[0;31m---------------------------------------------------------------------------\u001b[0m",
      "\u001b[0;31mStudentError\u001b[0m                              Traceback (most recent call last)",
      "\u001b[0;32m<ipython-input-4-70771b1f0c71>\u001b[0m in \u001b[0;36m<module>\u001b[0;34m\u001b[0m\n\u001b[1;32m      1\u001b[0m \u001b[0;32mfrom\u001b[0m \u001b[0mbwsi_grader\u001b[0m\u001b[0;34m.\u001b[0m\u001b[0mpython\u001b[0m\u001b[0;34m.\u001b[0m\u001b[0mthree_five\u001b[0m \u001b[0;32mimport\u001b[0m \u001b[0mgrader\u001b[0m\u001b[0;34m\u001b[0m\u001b[0;34m\u001b[0m\u001b[0m\n\u001b[0;32m----> 2\u001b[0;31m \u001b[0mgrader\u001b[0m\u001b[0;34m(\u001b[0m\u001b[0mstudent_func\u001b[0m\u001b[0;34m)\u001b[0m\u001b[0;34m\u001b[0m\u001b[0;34m\u001b[0m\u001b[0m\n\u001b[0m",
      "\u001b[0;32m~/opt/anaconda3/lib/python3.8/site-packages/bwsi_grader/python/three_five.py\u001b[0m in \u001b[0;36mgrader\u001b[0;34m(student_func)\u001b[0m\n\u001b[1;32m     69\u001b[0m \u001b[0;34m\u001b[0m\u001b[0m\n\u001b[1;32m     70\u001b[0m     \u001b[0;32mfor\u001b[0m \u001b[0minput_\u001b[0m \u001b[0;32min\u001b[0m \u001b[0;34m(\u001b[0m\u001b[0;36m3\u001b[0m\u001b[0;34m,\u001b[0m \u001b[0;36m5\u001b[0m\u001b[0;34m,\u001b[0m \u001b[0;36m15\u001b[0m\u001b[0;34m,\u001b[0m \u001b[0;36m2\u001b[0m\u001b[0;34m)\u001b[0m\u001b[0;34m:\u001b[0m\u001b[0;34m\u001b[0m\u001b[0;34m\u001b[0m\u001b[0m\n\u001b[0;32m---> 71\u001b[0;31m         \u001b[0mcompare_functions\u001b[0m\u001b[0;34m(\u001b[0m\u001b[0mstudent\u001b[0m\u001b[0;34m=\u001b[0m\u001b[0mstudent_func\u001b[0m\u001b[0;34m,\u001b[0m \u001b[0msoln\u001b[0m\u001b[0;34m=\u001b[0m\u001b[0msoln\u001b[0m\u001b[0;34m,\u001b[0m \u001b[0mfn_args\u001b[0m\u001b[0;34m=\u001b[0m\u001b[0;34m(\u001b[0m\u001b[0minput_\u001b[0m\u001b[0;34m,\u001b[0m\u001b[0;34m)\u001b[0m\u001b[0;34m)\u001b[0m\u001b[0;34m\u001b[0m\u001b[0;34m\u001b[0m\u001b[0m\n\u001b[0m\u001b[1;32m     72\u001b[0m \u001b[0;34m\u001b[0m\u001b[0m\n\u001b[1;32m     73\u001b[0m     \u001b[0;32mfor\u001b[0m \u001b[0mi\u001b[0m \u001b[0;32min\u001b[0m \u001b[0mrange\u001b[0m\u001b[0;34m(\u001b[0m\u001b[0;36m1000\u001b[0m\u001b[0;34m)\u001b[0m\u001b[0;34m:\u001b[0m\u001b[0;34m\u001b[0m\u001b[0;34m\u001b[0m\u001b[0m\n",
      "\u001b[0;32m~/opt/anaconda3/lib/python3.8/site-packages/bwsi_grader/__init__.py\u001b[0m in \u001b[0;36mcompare_functions\u001b[0;34m(student, soln, fn_args, fn_kwargs, function_name, comparison_function)\u001b[0m\n\u001b[1;32m    164\u001b[0m     )\n\u001b[1;32m    165\u001b[0m     \u001b[0;32mif\u001b[0m \u001b[0mmismatch_msg\u001b[0m\u001b[0;34m:\u001b[0m\u001b[0;34m\u001b[0m\u001b[0;34m\u001b[0m\u001b[0m\n\u001b[0;32m--> 166\u001b[0;31m         raise StudentError(\n\u001b[0m\u001b[1;32m    167\u001b[0m             \u001b[0;34mf\"\\nCalling \\n\\t{pad_indent(sig, ln=4)}\\nproduced an incorrect result.\\n\\n\"\u001b[0m\u001b[0;34m\u001b[0m\u001b[0;34m\u001b[0m\u001b[0m\n\u001b[1;32m    168\u001b[0m             \u001b[0;34m+\u001b[0m \u001b[0mmismatch_msg\u001b[0m\u001b[0;34m\u001b[0m\u001b[0;34m\u001b[0m\u001b[0m\n",
      "\u001b[0;31mStudentError\u001b[0m: \nCalling \n\tstudent_function(3)\nproduced an incorrect result.\n\nThe expected output has length-5:\n'three'\n\nGot an output of length-9:\n'threefive'"
     ]
    }
   ],
   "source": [
    "from bwsi_grader.python.three_five import grader\n",
    "grader(student_func)"
   ]
  }
 ],
 "metadata": {
  "kernelspec": {
   "display_name": "Python 3",
   "language": "python",
   "name": "python3"
  },
  "language_info": {
   "codemirror_mode": {
    "name": "ipython",
    "version": 3
   },
   "file_extension": ".py",
   "mimetype": "text/x-python",
   "name": "python",
   "nbconvert_exporter": "python",
   "pygments_lexer": "ipython3",
   "version": "3.8.5"
  }
 },
 "nbformat": 4,
 "nbformat_minor": 2
}
